{
 "cells": [
  {
   "cell_type": "code",
   "execution_count": 21,
   "metadata": {},
   "outputs": [],
   "source": [
    "import keras\n",
    "from keras import layers, Input, optimizers, models\n",
    "from keras.applications.vgg16 import VGG16\n",
    "import numpy as np\n",
    "import matplotlib.pyplot as plt\n",
    "from keras.preprocessing.image import ImageDataGenerator\n",
    "img_size = (224, 224)\n",
    "BATCH_SIZE = 1\n",
    "NUM_EPOCHS = 100\n",
    "DATAPATCH = '2019_endoscopy_image/'\n",
    "classes = ['normal', 'abnormal']"
   ]
  },
  {
   "cell_type": "code",
   "execution_count": 22,
   "metadata": {},
   "outputs": [
    {
     "name": "stdout",
     "output_type": "stream",
     "text": [
      "Found 2561 images belonging to 2 classes.\n",
      "Found 450 images belonging to 2 classes.\n"
     ]
    }
   ],
   "source": [
    "train_datagen = ImageDataGenerator(rescale=1./255)\n",
    "train_data = train_datagen.flow_from_directory(\n",
    "    directory=DATAPATCH+'train', target_size=img_size, batch_size=BATCH_SIZE, class_mode='binary', classes=classes)\n",
    "test_datagen = ImageDataGenerator(rescale=1./255)\n",
    "test_data = test_datagen.flow_from_directory(\n",
    "    directory=DATAPATCH+'test', target_size=img_size, batch_size=BATCH_SIZE, class_mode='binary', classes=classes)\n",
    "input_tensor = Input(shape=(224, 224, 3), dtype='float32', name='input')"
   ]
  },
  {
   "cell_type": "code",
   "execution_count": 23,
   "metadata": {},
   "outputs": [
    {
     "name": "stdout",
     "output_type": "stream",
     "text": [
      "_________________________________________________________________\n",
      "Layer (type)                 Output Shape              Param #   \n",
      "=================================================================\n",
      "input_2 (InputLayer)         (None, 224, 224, 3)       0         \n",
      "_________________________________________________________________\n",
      "block1_conv1 (Conv2D)        (None, 224, 224, 64)      1792      \n",
      "_________________________________________________________________\n",
      "block1_conv2 (Conv2D)        (None, 224, 224, 64)      36928     \n",
      "_________________________________________________________________\n",
      "block1_pool (MaxPooling2D)   (None, 112, 112, 64)      0         \n",
      "_________________________________________________________________\n",
      "block2_conv1 (Conv2D)        (None, 112, 112, 128)     73856     \n",
      "_________________________________________________________________\n",
      "block2_conv2 (Conv2D)        (None, 112, 112, 128)     147584    \n",
      "_________________________________________________________________\n",
      "block2_pool (MaxPooling2D)   (None, 56, 56, 128)       0         \n",
      "_________________________________________________________________\n",
      "block3_conv1 (Conv2D)        (None, 56, 56, 256)       295168    \n",
      "_________________________________________________________________\n",
      "block3_conv2 (Conv2D)        (None, 56, 56, 256)       590080    \n",
      "_________________________________________________________________\n",
      "block3_conv3 (Conv2D)        (None, 56, 56, 256)       590080    \n",
      "_________________________________________________________________\n",
      "block3_pool (MaxPooling2D)   (None, 28, 28, 256)       0         \n",
      "_________________________________________________________________\n",
      "block4_conv1 (Conv2D)        (None, 28, 28, 512)       1180160   \n",
      "_________________________________________________________________\n",
      "block4_conv2 (Conv2D)        (None, 28, 28, 512)       2359808   \n",
      "_________________________________________________________________\n",
      "block4_conv3 (Conv2D)        (None, 28, 28, 512)       2359808   \n",
      "_________________________________________________________________\n",
      "block4_pool (MaxPooling2D)   (None, 14, 14, 512)       0         \n",
      "_________________________________________________________________\n",
      "block5_conv1 (Conv2D)        (None, 14, 14, 512)       2359808   \n",
      "_________________________________________________________________\n",
      "block5_conv2 (Conv2D)        (None, 14, 14, 512)       2359808   \n",
      "_________________________________________________________________\n",
      "block5_conv3 (Conv2D)        (None, 14, 14, 512)       2359808   \n",
      "_________________________________________________________________\n",
      "block5_pool (MaxPooling2D)   (None, 7, 7, 512)         0         \n",
      "=================================================================\n",
      "Total params: 14,714,688\n",
      "Trainable params: 0\n",
      "Non-trainable params: 14,714,688\n",
      "_________________________________________________________________\n"
     ]
    }
   ],
   "source": [
    "pre_VGG = VGG16(weights='imagenet', include_top=False,\n",
    "                input_shape=(224, 224, 3))\n",
    "pre_VGG.trainable = True\n",
    "pre_VGG.summary()"
   ]
  },
  {
   "cell_type": "code",
   "execution_count": 24,
   "metadata": {},
   "outputs": [],
   "source": [
    "allModel = models.Sequential()\n",
    "allModel.add(pre_VGG)\n",
    "allModel.add(layers.Flatten())\n",
    "allModel.add(layers.Dense(512, activation='relu'))\n",
    "allModel.add(layers.Dense(256, activation='relu'))\n",
    "allModel.add(layers.Dense(1, activation='sigmoid'))\n",
    "allModel.compile(optimizer='rmsprop',\n",
    "                 loss='binary_crossentropy', metrics=['accuracy'])"
   ]
  },
  {
   "cell_type": "code",
   "execution_count": null,
   "metadata": {
    "scrolled": true
   },
   "outputs": [
    {
     "name": "stdout",
     "output_type": "stream",
     "text": [
      "Epoch 1/100\n",
      "2561/2561 [==============================] - 72s 28ms/step - loss: 5.4968 - acc: 0.6552 - val_loss: 4.4284 - val_acc: 0.7222\n",
      "Epoch 2/100\n",
      "2561/2561 [==============================] - 72s 28ms/step - loss: 5.4967 - acc: 0.6552 - val_loss: 4.4284 - val_acc: 0.7222\n",
      "Epoch 3/100\n",
      "2561/2561 [==============================] - 73s 28ms/step - loss: 5.4967 - acc: 0.6552 - val_loss: 4.4284 - val_acc: 0.7222\n",
      "Epoch 4/100\n",
      "2561/2561 [==============================] - 70s 27ms/step - loss: 5.4967 - acc: 0.6552 - val_loss: 4.4284 - val_acc: 0.7222\n",
      "Epoch 5/100\n",
      "2561/2561 [==============================] - 73s 28ms/step - loss: 5.4967 - acc: 0.6552 - val_loss: 4.4284 - val_acc: 0.7222\n",
      "Epoch 6/100\n",
      "2561/2561 [==============================] - 71s 28ms/step - loss: 5.4967 - acc: 0.6552 - val_loss: 4.4284 - val_acc: 0.7222\n",
      "Epoch 7/100\n",
      "2561/2561 [==============================] - 70s 27ms/step - loss: 5.4967 - acc: 0.6552 - val_loss: 4.4284 - val_acc: 0.7222\n",
      "Epoch 8/100\n",
      "2561/2561 [==============================] - 75s 29ms/step - loss: 5.4967 - acc: 0.6552 - val_loss: 4.4284 - val_acc: 0.7222\n",
      "Epoch 9/100\n",
      "2561/2561 [==============================] - 100s 39ms/step - loss: 5.4967 - acc: 0.6552 - val_loss: 4.4284 - val_acc: 0.7222\n",
      "Epoch 10/100\n",
      "2561/2561 [==============================] - 97s 38ms/step - loss: 5.4967 - acc: 0.6552 - val_loss: 4.4284 - val_acc: 0.7222\n",
      "Epoch 11/100\n",
      "2561/2561 [==============================] - 75s 29ms/step - loss: 5.4967 - acc: 0.6552 - val_loss: 4.4284 - val_acc: 0.7222\n",
      "Epoch 12/100\n",
      "2561/2561 [==============================] - 75s 29ms/step - loss: 5.4967 - acc: 0.6552 - val_loss: 4.4284 - val_acc: 0.7222\n",
      "Epoch 13/100\n",
      "2561/2561 [==============================] - 76s 30ms/step - loss: 5.4967 - acc: 0.6552 - val_loss: 4.4284 - val_acc: 0.7222\n",
      "Epoch 14/100\n",
      "2561/2561 [==============================] - 75s 29ms/step - loss: 5.4967 - acc: 0.6552 - val_loss: 4.4284 - val_acc: 0.7222\n",
      "Epoch 15/100\n",
      "2561/2561 [==============================] - 72s 28ms/step - loss: 5.4967 - acc: 0.6552 - val_loss: 4.4284 - val_acc: 0.7222\n",
      "Epoch 16/100\n",
      "2561/2561 [==============================] - 73s 28ms/step - loss: 5.4967 - acc: 0.6552 - val_loss: 4.4284 - val_acc: 0.7222\n",
      "Epoch 17/100\n",
      "2561/2561 [==============================] - 72s 28ms/step - loss: 5.4967 - acc: 0.6552 - val_loss: 4.4284 - val_acc: 0.7222\n",
      "Epoch 18/100\n",
      "2561/2561 [==============================] - 72s 28ms/step - loss: 5.4967 - acc: 0.6552 - val_loss: 4.4284 - val_acc: 0.7222\n",
      "Epoch 19/100\n",
      "2561/2561 [==============================] - 72s 28ms/step - loss: 5.4967 - acc: 0.6552 - val_loss: 4.4284 - val_acc: 0.7222\n",
      "Epoch 20/100\n",
      "2561/2561 [==============================] - 72s 28ms/step - loss: 5.4967 - acc: 0.6552 - val_loss: 4.4284 - val_acc: 0.7222\n",
      "Epoch 21/100\n",
      "2561/2561 [==============================] - 72s 28ms/step - loss: 5.4967 - acc: 0.6552 - val_loss: 4.4284 - val_acc: 0.7222\n",
      "Epoch 22/100\n",
      "2561/2561 [==============================] - 72s 28ms/step - loss: 5.4967 - acc: 0.6552 - val_loss: 4.4284 - val_acc: 0.7222\n",
      "Epoch 23/100\n",
      "2561/2561 [==============================] - 72s 28ms/step - loss: 5.4967 - acc: 0.6552 - val_loss: 4.4284 - val_acc: 0.7222\n",
      "Epoch 24/100\n",
      "2561/2561 [==============================] - 72s 28ms/step - loss: 5.4967 - acc: 0.6552 - val_loss: 4.4284 - val_acc: 0.7222\n",
      "Epoch 25/100\n",
      "2561/2561 [==============================] - 72s 28ms/step - loss: 5.4967 - acc: 0.6552 - val_loss: 4.4284 - val_acc: 0.7222\n",
      "Epoch 26/100\n",
      "2561/2561 [==============================] - 73s 28ms/step - loss: 5.4967 - acc: 0.6552 - val_loss: 4.4284 - val_acc: 0.7222\n",
      "Epoch 27/100\n",
      "2561/2561 [==============================] - 70s 27ms/step - loss: 5.4967 - acc: 0.6552 - val_loss: 4.4284 - val_acc: 0.7222\n",
      "Epoch 28/100\n",
      "2561/2561 [==============================] - 69s 27ms/step - loss: 5.4967 - acc: 0.6552 - val_loss: 4.4284 - val_acc: 0.7222\n",
      "Epoch 29/100\n",
      "2561/2561 [==============================] - 71s 28ms/step - loss: 5.4967 - acc: 0.6552 - val_loss: 4.4284 - val_acc: 0.7222\n",
      "Epoch 30/100\n",
      "2561/2561 [==============================] - 71s 28ms/step - loss: 5.4967 - acc: 0.6552 - val_loss: 4.4284 - val_acc: 0.7222\n",
      "Epoch 31/100\n",
      "2561/2561 [==============================] - 71s 28ms/step - loss: 5.4967 - acc: 0.6552 - val_loss: 4.4284 - val_acc: 0.7222\n",
      "Epoch 32/100\n",
      "2561/2561 [==============================] - 71s 28ms/step - loss: 5.4967 - acc: 0.6552 - val_loss: 4.4284 - val_acc: 0.7222\n",
      "Epoch 33/100\n",
      "2561/2561 [==============================] - 71s 28ms/step - loss: 5.4967 - acc: 0.6552 - val_loss: 4.4284 - val_acc: 0.7222\n",
      "Epoch 34/100\n",
      "2561/2561 [==============================] - 71s 28ms/step - loss: 5.4967 - acc: 0.6552 - val_loss: 4.4284 - val_acc: 0.7222\n",
      "Epoch 35/100\n",
      "2561/2561 [==============================] - 71s 28ms/step - loss: 5.4967 - acc: 0.6552 - val_loss: 4.4284 - val_acc: 0.7222\n",
      "Epoch 36/100\n",
      "2561/2561 [==============================] - 71s 28ms/step - loss: 5.4967 - acc: 0.6552 - val_loss: 4.4284 - val_acc: 0.7222\n",
      "Epoch 37/100\n",
      "2561/2561 [==============================] - 71s 28ms/step - loss: 5.4967 - acc: 0.6552 - val_loss: 4.4284 - val_acc: 0.7222\n",
      "Epoch 38/100\n",
      "2561/2561 [==============================] - 71s 28ms/step - loss: 5.4967 - acc: 0.6552 - val_loss: 4.4284 - val_acc: 0.7222\n",
      "Epoch 39/100\n",
      "2561/2561 [==============================] - 71s 28ms/step - loss: 5.4967 - acc: 0.6552 - val_loss: 4.4284 - val_acc: 0.7222\n",
      "Epoch 40/100\n",
      "2561/2561 [==============================] - 71s 28ms/step - loss: 5.4967 - acc: 0.6552 - val_loss: 4.4284 - val_acc: 0.7222\n",
      "Epoch 41/100\n",
      "2561/2561 [==============================] - 71s 28ms/step - loss: 5.4967 - acc: 0.6552 - val_loss: 4.4284 - val_acc: 0.7222\n",
      "Epoch 42/100\n",
      "2561/2561 [==============================] - 71s 28ms/step - loss: 5.4967 - acc: 0.6552 - val_loss: 4.4284 - val_acc: 0.7222\n",
      "Epoch 43/100\n",
      "2561/2561 [==============================] - 71s 28ms/step - loss: 5.4967 - acc: 0.6552 - val_loss: 4.4284 - val_acc: 0.7222\n",
      "Epoch 44/100\n",
      "2561/2561 [==============================] - 71s 28ms/step - loss: 5.4967 - acc: 0.6552 - val_loss: 4.4284 - val_acc: 0.7222\n",
      "Epoch 45/100\n",
      "2561/2561 [==============================] - 71s 28ms/step - loss: 5.4967 - acc: 0.6552 - val_loss: 4.4284 - val_acc: 0.7222\n",
      "Epoch 46/100\n",
      "2561/2561 [==============================] - 71s 28ms/step - loss: 5.4967 - acc: 0.6552 - val_loss: 4.4284 - val_acc: 0.7222\n",
      "Epoch 47/100\n",
      "2561/2561 [==============================] - 71s 28ms/step - loss: 5.4967 - acc: 0.6552 - val_loss: 4.4284 - val_acc: 0.7222\n",
      "Epoch 48/100\n",
      "2561/2561 [==============================] - 71s 28ms/step - loss: 5.4967 - acc: 0.6552 - val_loss: 4.4284 - val_acc: 0.7222\n",
      "Epoch 49/100\n",
      "2561/2561 [==============================] - 71s 28ms/step - loss: 5.4967 - acc: 0.6552 - val_loss: 4.4284 - val_acc: 0.7222\n",
      "Epoch 50/100\n",
      "2561/2561 [==============================] - 71s 28ms/step - loss: 5.4967 - acc: 0.6552 - val_loss: 4.4284 - val_acc: 0.7222\n",
      "Epoch 51/100\n",
      "1124/2561 [============>.................] - ETA: 36s - loss: 5.4891 - acc: 0.6557"
     ]
    }
   ],
   "source": [
    "history = allModel.fit_generator(train_data, epochs=NUM_EPOCHS,\n",
    "                                 validation_steps=test_data.samples,\n",
    "                                 steps_per_epoch=train_data.samples,\n",
    "                                 validation_data=test_data).history"
   ]
  },
  {
   "cell_type": "code",
   "execution_count": null,
   "metadata": {},
   "outputs": [],
   "source": [
    "loss = history['loss']\n",
    "val_loss = history['val_loss']\n",
    "acc = history['acc']\n",
    "val_acc = history['val_acc']\n",
    "epochs = range(1, len(loss)+1)\n",
    "epochs2 = range(1,len(val_loss)+1)\n",
    "plt.plot(epochs, loss, 'r', label='train loss')\n",
    "plt.plot(epochs, acc, 'g', label='train acc')\n",
    "plt.plot(epochs2, val_acc, 'b', label='Val acc')\n",
    "plt.plot(epochs2, val_loss, 'c', label='Val loss')\n",
    "plt.xlabel('Epochs')\n",
    "plt.ylabel('Loss/Acc')\n",
    "plt.legend()\n",
    "plt.show()"
   ]
  },
  {
   "cell_type": "code",
   "execution_count": null,
   "metadata": {},
   "outputs": [],
   "source": [
    "plt.plot(epochs, loss, 'r', label='train loss')\n",
    "plt.plot(epochs2, val_loss, 'c', label='Val loss')\n",
    "plt.xlabel('Epochs')\n",
    "plt.ylabel('Loss')\n",
    "plt.legend()\n",
    "plt.show()\n",
    "plt.plot(epochs, acc, 'g', label='train acc')\n",
    "plt.plot(epochs2, val_acc, 'b', label='Val acc')\n",
    "plt.xlabel('Epochs')\n",
    "plt.ylabel('Acc')\n",
    "plt.legend()\n",
    "plt.show()"
   ]
  },
  {
   "cell_type": "code",
   "execution_count": null,
   "metadata": {},
   "outputs": [],
   "source": []
  },
  {
   "cell_type": "code",
   "execution_count": null,
   "metadata": {},
   "outputs": [],
   "source": []
  }
 ],
 "metadata": {
  "kernelspec": {
   "display_name": "Python 3",
   "language": "python",
   "name": "python3"
  },
  "language_info": {
   "codemirror_mode": {
    "name": "ipython",
    "version": 3
   },
   "file_extension": ".py",
   "mimetype": "text/x-python",
   "name": "python",
   "nbconvert_exporter": "python",
   "pygments_lexer": "ipython3",
   "version": "3.6.8"
  }
 },
 "nbformat": 4,
 "nbformat_minor": 2
}
